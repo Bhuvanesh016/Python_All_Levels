{
 "cells": [
  {
   "cell_type": "markdown",
   "metadata": {},
   "source": [
    "# if, elif, else Statements\n",
    "### notes by Bhuvanesh.A\n",
    "\n",
    "<code>if</code> Statements in Python allows us to tell the computer to perform alternative actions based on a certain set of results.\n",
    "\n",
    "Verbally, we can imagine we are telling the computer:\n",
    "\n",
    "\"Hey if this case happens, perform some action\"\n",
    "\n",
    "We can then expand the idea further with <code>elif</code> and <code>else</code> statements, which allow us to tell the computer:\n",
    "\n",
    "\"Hey if this case happens, perform some action. Else, if another case happens, perform some other action. Else, if *none* of the above cases happened, perform this action.\"\n",
    "\n",
    "Let's go ahead and look at the syntax format for <code>if</code> statements to get a better idea of this:\n",
    "\n",
    "    if case1:\n",
    "        perform action1\n",
    "    elif case2:\n",
    "        perform action2\n",
    "    else: \n",
    "        perform action3"
   ]
  },
  {
   "cell_type": "code",
   "execution_count": null,
   "metadata": {},
   "outputs": [],
   "source": []
  },
  {
   "cell_type": "code",
   "execution_count": 1,
   "metadata": {},
   "outputs": [
    {
     "name": "stdout",
     "output_type": "stream",
     "text": [
      "statement executed\n"
     ]
    }
   ],
   "source": [
    "if True:\n",
    "    print('statement executed')"
   ]
  },
  {
   "cell_type": "code",
   "execution_count": 2,
   "metadata": {},
   "outputs": [
    {
     "name": "stdout",
     "output_type": "stream",
     "text": [
      "It my new bike\n"
     ]
    }
   ],
   "source": [
    "bike='Royal Enfield'\n",
    "if bike=='Royal Enfield':\n",
    "    print(\"It my new bike\")"
   ]
  },
  {
   "cell_type": "markdown",
   "metadata": {},
   "source": [
    "###### if else statement"
   ]
  },
  {
   "cell_type": "code",
   "execution_count": 3,
   "metadata": {},
   "outputs": [
    {
     "name": "stdout",
     "output_type": "stream",
     "text": [
      "I'm else block.\n"
     ]
    }
   ],
   "source": [
    "if False:\n",
    "    print(\"i will be printed only if condition is true\")\n",
    "else:\n",
    "    print(\"I'm else block.\")"
   ]
  },
  {
   "cell_type": "markdown",
   "metadata": {},
   "source": [
    "### Nested if\n",
    "\n",
    "Let's get a full picture of how far <code>if</code>, <code>elif</code>, and <code>else</code> can take us!\n",
    "\n",
    "We write this out in a nested structure. Take note of how the <code>if</code>, <code>elif</code>, and <code>else</code> line up in the code. This can help you see what <code>if</code> is related to what <code>elif</code> or <code>else</code> statements.\n",
    "\n",
    "We'll reintroduce a comparison syntax for Python."
   ]
  },
  {
   "cell_type": "code",
   "execution_count": 4,
   "metadata": {},
   "outputs": [
    {
     "name": "stdout",
     "output_type": "stream",
     "text": [
      "enter the ID: 125\n",
      "Go to Hall 1\n",
      "Go to seminar hall\n"
     ]
    }
   ],
   "source": [
    "x=int(input('enter the ID: '))    # used int(input()) because input will return string type\n",
    "\n",
    "if x>=100 and x<=200:\n",
    "    print('Go to Hall 1')\n",
    "\n",
    "if x>200 and x<=300:\n",
    "    print('Go to hall 2')\n",
    "\n",
    "else:\n",
    "    print('Go to seminar hall')"
   ]
  },
  {
   "cell_type": "code",
   "execution_count": 5,
   "metadata": {},
   "outputs": [],
   "source": [
    "lis=['python','c','java','R']"
   ]
  },
  {
   "cell_type": "code",
   "execution_count": 6,
   "metadata": {},
   "outputs": [
    {
     "data": {
      "text/plain": [
       "True"
      ]
     },
     "execution_count": 6,
     "metadata": {},
     "output_type": "execute_result"
    }
   ],
   "source": [
    "'c' in lis    # for checking is a particular value in list"
   ]
  },
  {
   "cell_type": "code",
   "execution_count": 7,
   "metadata": {},
   "outputs": [
    {
     "name": "stdout",
     "output_type": "stream",
     "text": [
      "python here\n"
     ]
    }
   ],
   "source": [
    "if 'python' in lis:\n",
    "    print('python here')\n",
    "else:\n",
    "    print('python is not available')"
   ]
  },
  {
   "cell_type": "markdown",
   "metadata": {},
   "source": [
    "#### Testing Multiple conditions\n",
    "A customer asks toppings for his pizza, which are given below in a list:"
   ]
  },
  {
   "cell_type": "code",
   "execution_count": 8,
   "metadata": {},
   "outputs": [
    {
     "name": "stdout",
     "output_type": "stream",
     "text": [
      "Mushroom is added\n",
      "Your pizza is ready to eat.\n"
     ]
    }
   ],
   "source": [
    "toppings = ['mushroom','paneer']\n",
    "\n",
    "if 'mushroom' in toppings:\n",
    "    print('Mushroom is added')\n",
    "elif 'cheese' in toppings:\n",
    "    print('Cheese is added')\n",
    "elif 'paneer' in toppings:\n",
    "    print('Paneer is added')\n",
    "print('Your pizza is ready to eat.')    "
   ]
  },
  {
   "cell_type": "markdown",
   "metadata": {},
   "source": [
    "Did you noticed something strange!!!\n",
    "\n",
    "As we requested two toppings but only one is executed. \n",
    "\n",
    "Sometimes it’s important to check all of the conditions of\n",
    "interest. In this case, you should use a series of simple if statements with no\n",
    "elif or else blocks. This technique makes sense when more than one condition\n",
    "could be True, and you want to act on every condition that is True."
   ]
  },
  {
   "cell_type": "code",
   "execution_count": 9,
   "metadata": {},
   "outputs": [
    {
     "name": "stdout",
     "output_type": "stream",
     "text": [
      "Mushroom is added\n",
      "Paneer is added\n",
      "Your pizza is ready to eat.\n"
     ]
    }
   ],
   "source": [
    "toppings = ['mushroom','paneer']\n",
    "\n",
    "if 'mushroom' in toppings:\n",
    "    print('Mushroom is added')\n",
    "if 'cheese' in toppings:\n",
    "    print('Cheese is added')\n",
    "if 'paneer' in toppings:\n",
    "    print('Paneer is added')\n",
    "print('Your pizza is ready to eat.')"
   ]
  },
  {
   "cell_type": "markdown",
   "metadata": {},
   "source": [
    "#### Empty list \n",
    "When the name of a list is used in an if statement, **Python returns True if the list contains\n",
    "at least one item**; an empty list evaluates to False."
   ]
  },
  {
   "cell_type": "code",
   "execution_count": 10,
   "metadata": {},
   "outputs": [
    {
     "name": "stdout",
     "output_type": "stream",
     "text": [
      "Did you really entered toppings?\n"
     ]
    }
   ],
   "source": [
    "toppings = []\n",
    "if toppings:\n",
    "    print('wait a minute!')\n",
    "else:\n",
    "    print('Did you really entered toppings?')"
   ]
  },
  {
   "cell_type": "code",
   "execution_count": 16,
   "metadata": {},
   "outputs": [
    {
     "name": "stdout",
     "output_type": "stream",
     "text": [
      "cheese is added\n",
      "corn is added\n",
      "sorry chilli is not available\n",
      "your pizza is ready\n"
     ]
    }
   ],
   "source": [
    "toppings =['cheese','corn','chilli']\n",
    "if toppings:\n",
    "    for val in toppings:\n",
    "        if val=='chilli':\n",
    "            print('sorry '+val+' is not available')\n",
    "        else:\n",
    "             print(val +' is added')\n",
    "    print('your pizza is ready')           \n",
    "else:\n",
    "    print('Did you really entered toppings?')"
   ]
  },
  {
   "cell_type": "code",
   "execution_count": null,
   "metadata": {},
   "outputs": [],
   "source": []
  }
 ],
 "metadata": {
  "kernelspec": {
   "display_name": "Python 3",
   "language": "python",
   "name": "python3"
  },
  "language_info": {
   "codemirror_mode": {
    "name": "ipython",
    "version": 3
   },
   "file_extension": ".py",
   "mimetype": "text/x-python",
   "name": "python",
   "nbconvert_exporter": "python",
   "pygments_lexer": "ipython3",
   "version": "3.7.6"
  }
 },
 "nbformat": 4,
 "nbformat_minor": 4
}
